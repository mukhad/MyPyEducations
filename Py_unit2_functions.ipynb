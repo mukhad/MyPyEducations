{
 "cells": [
  {
   "cell_type": "markdown",
   "metadata": {},
   "source": [
    "### Functions"
   ]
  },
  {
   "cell_type": "code",
   "execution_count": 7,
   "metadata": {},
   "outputs": [
    {
     "data": {
      "text/plain": [
       "'17:27:59'"
      ]
     },
     "execution_count": 7,
     "metadata": {},
     "output_type": "execute_result"
    }
   ],
   "source": [
    "from datetime import datetime as dt\n",
    "\n",
    "def get_sec():\n",
    "    \"\"\"Return current time\"\"\"\n",
    "    d = dt.now()\n",
    "    s = \"{}:{}:{}\".format(d.hour,d.minute,d.second)\n",
    "    return s\n",
    "get_sec()"
   ]
  },
  {
   "cell_type": "code",
   "execution_count": 17,
   "metadata": {},
   "outputs": [
    {
     "name": "stdout",
     "output_type": "stream",
     "text": [
      "Help on function f_add in module __main__:\n",
      "\n",
      "f_add(x: int, y: int) -> int\n",
      "    add two values\n",
      "\n"
     ]
    }
   ],
   "source": [
    "def f_add(x:int, y:int)->int:\n",
    "    \"add two values\"\n",
    "    return x+y\n",
    "help(f_add)"
   ]
  },
  {
   "cell_type": "code",
   "execution_count": 25,
   "metadata": {},
   "outputs": [
    {
     "name": "stdout",
     "output_type": "stream",
     "text": [
      "5\n",
      "[5, 4, 6, 7, 3]\n"
     ]
    }
   ],
   "source": [
    "def get_median(lst):\n",
    "    s_lst = lst[:]\n",
    "    s_lst.sort()\n",
    "    return s_lst[len(s_lst)//2]\n",
    "\n",
    "ls = [5,4,6,7,3]\n",
    "print(get_median(ls))\n",
    "print(ls)"
   ]
  },
  {
   "cell_type": "code",
   "execution_count": 34,
   "metadata": {},
   "outputs": [
    {
     "name": "stdout",
     "output_type": "stream",
     "text": [
      "range(0, 5)\n",
      "[0, 1, 2, 3, 4, 5, 6, 7]\n",
      "[0, 1, 2, 3, 4]\n"
     ]
    }
   ],
   "source": [
    "def ext(s_lst_c,e_lst):\n",
    "    s_lst = s_lst_c[:]\n",
    "    s_lst.extend(e_lst)\n",
    "    return s_lst\n",
    "\n",
    "s1 = [i for i in range(0,5)]\n",
    "print(range(0,5))\n",
    "\n",
    "s2 = [i for i in range(5,8)]\n",
    "print(ext(s1,s2))\n",
    "print(s1)\n"
   ]
  },
  {
   "cell_type": "markdown",
   "metadata": {},
   "source": [
    "### variable visibility"
   ]
  },
  {
   "cell_type": "code",
   "execution_count": null,
   "metadata": {},
   "outputs": [],
   "source": []
  },
  {
   "cell_type": "markdown",
   "metadata": {},
   "source": [
    "### Exceptions"
   ]
  },
  {
   "cell_type": "code",
   "execution_count": 45,
   "metadata": {},
   "outputs": [
    {
     "name": "stdout",
     "output_type": "stream",
     "text": [
      "program error: division by zero  <class 'ZeroDivisionError'>\n"
     ]
    }
   ],
   "source": [
    "def average(lst):\n",
    "    return sum(lst)/len(lst)\n",
    "\n",
    "s1 = list()\n",
    "s2 = [\"str\"]\n",
    "try:\n",
    "    average(s1)\n",
    "except (ValueError,ZeroDivisionError) as e:\n",
    "    print(\"program error: {}  {}\".format(e,type(e)))\n",
    "except Exception as e:\n",
    "    print(\"unpredicted error: \", e)"
   ]
  },
  {
   "cell_type": "code",
   "execution_count": 67,
   "metadata": {},
   "outputs": [
    {
     "name": "stdout",
     "output_type": "stream",
     "text": [
      "to small Something wrong <class '__main__.MyOwnException'>\n"
     ]
    }
   ],
   "source": [
    "class MyOwnException(ZeroDivisionError):\n",
    "    pass\n",
    "def SumF(lst):\n",
    "    if len(lst) < 5:\n",
    "       raise MyOwnException(\"Something wrong\")\n",
    "    return sum(lst)\n",
    "\n",
    "s1 = [i for i in range(4)]\n",
    "try:\n",
    "    print(SumF(s1))\n",
    "except  MyOwnException as e:\n",
    "    print(\"to small\", e, type(e))\n",
    "except ZeroDivisionError as e:\n",
    "    print(\"small\",e,type(e))\n",
    "\n",
    "\n",
    "\n",
    "    "
   ]
  }
 ],
 "metadata": {
  "kernelspec": {
   "display_name": "Python 3",
   "language": "python",
   "name": "python3"
  },
  "language_info": {
   "codemirror_mode": {
    "name": "ipython",
    "version": 3
   },
   "file_extension": ".py",
   "mimetype": "text/x-python",
   "name": "python",
   "nbconvert_exporter": "python",
   "pygments_lexer": "ipython3",
   "version": "3.7.0"
  }
 },
 "nbformat": 4,
 "nbformat_minor": 2
}
