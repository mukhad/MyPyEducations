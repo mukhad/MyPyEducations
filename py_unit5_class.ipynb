{
 "cells": [
  {
   "cell_type": "code",
   "execution_count": 17,
   "metadata": {},
   "outputs": [],
   "source": [
    "class Message1:\n",
    "    def __init__(self,text):\n",
    "        self._text = text\n",
    "        \n",
    "    def send(self):\n",
    "        raise NotImplementedError()\n",
    "        \n",
    "    @classmethod\n",
    "    def create(cls,message_type) -> 'Message':\n",
    "        if message_type == 'telegram':\n",
    "            message = TelegramMessage('zzz')\n",
    "        elif message_type == 'phone':\n",
    "            message = PhoneMessage('yyy')\n",
    "        else:\n",
    "            raise ValueError()\n",
    "        return message\n",
    "    \n",
    "        \n",
    "            \n",
    "class TelegramMessage(Message):\n",
    "    def send(self):\n",
    "        print(\"telegram->\", self._text)\n",
    "\n",
    "class PhoneMessage(Message):\n",
    "    def send(self):\n",
    "        print(\"phone->\", self._text)\n",
    "        "
   ]
  },
  {
   "cell_type": "code",
   "execution_count": 18,
   "metadata": {},
   "outputs": [
    {
     "name": "stdout",
     "output_type": "stream",
     "text": [
      "phone-> yyy\n"
     ]
    }
   ],
   "source": [
    "mes = Message1.create(\"phone\")\n",
    "mes.send()"
   ]
  },
  {
   "cell_type": "code",
   "execution_count": 20,
   "metadata": {},
   "outputs": [],
   "source": [
    "class Message2:\n",
    "    def __init__(self,text):\n",
    "        self._text = text\n",
    "        \n",
    "    def send(self):\n",
    "        raise NotImplementedError()\n",
    "        \n",
    "    @classmethod\n",
    "    def _get_registry(cls):\n",
    "        return{\n",
    "            'phone': PhoneMessage,\n",
    "            'telegram':TelegramMessage,\n",
    "        }\n",
    "    \n",
    "    @classmethod\n",
    "    def create(cls,message_type,text) -> 'Message':\n",
    "        cclass = cls._get_registry().get(message_type)\n",
    "        if cclass is None:\n",
    "            raise ValueError()\n",
    "        return cclass(text)\n",
    "    \n",
    "        \n",
    "            \n",
    "class TelegramMessage(Message):\n",
    "    def send(self):\n",
    "        print(\"telegram->\", self._text)\n",
    "\n",
    "class PhoneMessage(Message):\n",
    "    def send(self):\n",
    "        print(\"phone->\", self._text)\n",
    "        "
   ]
  },
  {
   "cell_type": "code",
   "execution_count": 22,
   "metadata": {},
   "outputs": [
    {
     "name": "stdout",
     "output_type": "stream",
     "text": [
      "phone-> blabla\n"
     ]
    }
   ],
   "source": [
    "mes = Message2.create(\"phone\",\"blabla\")\n",
    "mes.send()"
   ]
  },
  {
   "cell_type": "code",
   "execution_count": 30,
   "metadata": {},
   "outputs": [],
   "source": [
    "class Message3:\n",
    "    _REGISTRY = {}\n",
    "\n",
    "    def __init__(self,text):\n",
    "        self._text = text\n",
    "        \n",
    "    def send(self):\n",
    "        raise NotImplementedError()\n",
    "        \n",
    "    @classmethod\n",
    "    def register(cls,name):\n",
    "        def decorator(cclass):\n",
    "            cls._REGISTRY[name] = cclass\n",
    "            return cclass\n",
    "        return decorator\n",
    "        \n",
    "    @classmethod\n",
    "    def create(cls,message_type,text) -> 'Message':\n",
    "        cclass = cls._REGISTRY.get(message_type)\n",
    "        if cclass is None:\n",
    "            raise ValueError()\n",
    "        return cclass(text)\n",
    "    \n",
    "        \n",
    "            \n",
    "@Message3.register('telegram')\n",
    "class TelegramMessage(Message):\n",
    "    def send(self):\n",
    "        print(\"telegram->\", self._text)\n",
    "\n",
    "@Message3.register('phone')\n",
    "class PhoneMessage(Message):\n",
    "    def send(self):\n",
    "        print(\"phone->\", self._text)\n",
    "        "
   ]
  },
  {
   "cell_type": "code",
   "execution_count": 31,
   "metadata": {},
   "outputs": [
    {
     "name": "stdout",
     "output_type": "stream",
     "text": [
      "phone-> blabla\n"
     ]
    }
   ],
   "source": [
    "mes = Message3.create(\"phone\",\"blabla\")\n",
    "mes.send()"
   ]
  },
  {
   "cell_type": "code",
   "execution_count": null,
   "metadata": {},
   "outputs": [],
   "source": []
  }
 ],
 "metadata": {
  "kernelspec": {
   "display_name": "Python 3",
   "language": "python",
   "name": "python3"
  },
  "language_info": {
   "codemirror_mode": {
    "name": "ipython",
    "version": 3
   },
   "file_extension": ".py",
   "mimetype": "text/x-python",
   "name": "python",
   "nbconvert_exporter": "python",
   "pygments_lexer": "ipython3",
   "version": "3.7.0"
  }
 },
 "nbformat": 4,
 "nbformat_minor": 2
}
