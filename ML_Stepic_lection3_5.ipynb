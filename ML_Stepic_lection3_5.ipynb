{
 "cells": [
  {
   "cell_type": "code",
   "execution_count": 4,
   "metadata": {},
   "outputs": [
    {
     "name": "stdout",
     "output_type": "stream",
     "text": [
      "7.5\n",
      "8\n",
      "--\n",
      "-1.5\n"
     ]
    }
   ],
   "source": [
    "p = [0.5, 3, 7.5, 6.5, -1.5, 8, 0]\n",
    "\n",
    "q1 = 4 + 1.5*(4-2)\n",
    "q2 = 2 - 1.5*(4-2)\n",
    "\n",
    "for i in p:\n",
    "    if i > q1:\n",
    "        print(i)\n",
    "\n",
    "print(\"--\")\n",
    "        \n",
    "for i in p:\n",
    "    if i < q2:\n",
    "        print(i)"
   ]
  },
  {
   "cell_type": "code",
   "execution_count": 8,
   "metadata": {},
   "outputs": [
    {
     "name": "stdout",
     "output_type": "stream",
     "text": [
      "True\n",
      "14\n",
      "13.5\n",
      "--\n",
      "6\n",
      "6.5\n"
     ]
    }
   ],
   "source": [
    "from math import sqrt\n",
    "#Среднее значение, отклонение и медиана десяти значений признака Р равны 10, 1.1 (одна целая одна десятая), и 9\n",
    "avr = 10\n",
    "s = 1.1\n",
    "m = 9\n",
    "p = [ 14, 13.5, 7, 6, 13, 6.5] \n",
    "\n",
    "n = len(p)\n",
    "\n",
    "b = (avr - m) < 3*s/sqrt(n)\n",
    "print(b)\n",
    "\n",
    "for i in p:\n",
    "    if i > avr+3*s:\n",
    "        print(i)\n",
    "\n",
    "print(\"--\")\n",
    "        \n",
    "for i in p:\n",
    "    if i < avr-3*s:\n",
    "        print(i)"
   ]
  },
  {
   "cell_type": "code",
   "execution_count": 24,
   "metadata": {},
   "outputs": [
    {
     "name": "stdout",
     "output_type": "stream",
     "text": [
      "0 12.0\n",
      "1 16.0\n",
      "2 16.0\n",
      "3 20.0\n"
     ]
    }
   ],
   "source": [
    "from math import fabs\n",
    "def rm(p,q):\n",
    "    r = 0\n",
    "    n = len(p)\n",
    "    for i in range(0,n):\n",
    "        r += fabs(p[i] - q[i])\n",
    "    return r\n",
    "    \n",
    "\n",
    "A = [ 1, 1, 0]\n",
    "B = [ 0, 2,-1]\n",
    "C = [ 2, 3, 1]\n",
    "D = [ 1, 0, 4]\n",
    "\n",
    "tb = [A, B, C, D]\n",
    "\n",
    "for i in range(0,4):\n",
    "    r = 0\n",
    "    for j in range(0,4):\n",
    "        r += rm(tb[i],tb[j])\n",
    "    print(i,r)    \n"
   ]
  },
  {
   "cell_type": "code",
   "execution_count": 1,
   "metadata": {},
   "outputs": [
    {
     "name": "stdout",
     "output_type": "stream",
     "text": [
      "3.0 4.0 True\n",
      "2.0 3.0 True\n",
      "5.0 2.0 False\n",
      "5.0 2.0 False\n",
      "3.0 4.0 True\n"
     ]
    }
   ],
   "source": [
    "from math import fabs\n",
    "\n",
    "x = [[4,2],\n",
    "     [3,2],\n",
    "     [1,-1],\n",
    "     [-1,1],\n",
    "     [0,4]  ]\n",
    "x1 = [2,3]\n",
    "x2 = [1,1]\n",
    "\n",
    "for x in x:\n",
    "    r1 = fabs(x[0] - x1[0]) + fabs(x[1] - x1[1])\n",
    "    r2 = fabs(x[0] - x2[0]) + fabs(x[1] - x2[1])\n",
    "    \n",
    "    print(r1,r2,r1<r2) "
   ]
  },
  {
   "cell_type": "code",
   "execution_count": 16,
   "metadata": {
    "scrolled": true
   },
   "outputs": [
    {
     "name": "stdout",
     "output_type": "stream",
     "text": [
      "  0.49\n",
      "  0.49\n",
      "  0.81\n"
     ]
    }
   ],
   "source": [
    "import numpy as np  # импортируем библиотеку\n",
    "M3 = np.array([[14.,12.,4.], \n",
    "               [12.,14.,4.], \n",
    "               [4.,4.,10.]])  # Матрица (левая часть системы)\n",
    "v3 = np.array([16.,16.,12.])  # Вектор (правая часть системы)\n",
    "x = np.linalg.solve(M3, v3)\n",
    "\n",
    "for x in x:\n",
    "    print(\"{0:6.2f}\".format(x))   # [0.49122807 0.49122807 0.80701754] "
   ]
  },
  {
   "cell_type": "code",
   "execution_count": null,
   "metadata": {},
   "outputs": [],
   "source": [
    "from math import fabs\n",
    "y = [1,2,3,4,5,-1,-2,-3,-4,-5]\n",
    "y1 = [0,2,2,5,3,-1,-1,-4,-6,-5]\n",
    "n = len(y)\n",
    "mae = 0\n",
    "mape = 0\n",
    "for i in range(n):\n",
    "    mae += fabs(y[i]-y1[i])\n",
    "    mape += fabs(y[i]-y1[i])/fabs(y[i])\n",
    "    \n",
    "mae = mae/n\n",
    "mape = mape*100/n\n",
    "\n",
    "print(mae,mape)  "
   ]
  },
  {
   "cell_type": "code",
   "execution_count": 22,
   "metadata": {},
   "outputs": [
    {
     "name": "stdout",
     "output_type": "stream",
     "text": [
      "y = (  0.80) x + ( -0.20)\n"
     ]
    }
   ],
   "source": [
    "#метод наименьших квадратов\n",
    "\n",
    "x = [0,1,2,3]\n",
    "y = [0,1,0,3]\n",
    "n = len(x)\n",
    "\n",
    "sumxy,sumx,sumy,sumxx = 0,0,0,0\n",
    "\n",
    "for i in range(n):\n",
    "    sumx += x[i]\n",
    "    sumy += y[i]\n",
    "    sumxx += x[i]*x[i]\n",
    "    sumxy += x[i]*y[i]\n",
    "    \n",
    "A = (n* sumxy - sumy*sumx)/(n*sumxx - sumx*sumx)\n",
    "B = (sumy*sumxx- sumxy*sumx)/(n*sumxx - sumx*sumx)\n",
    "\n",
    "print(\"y = ({0:6.2f}) x + ({1:6.2f})\".format(A,B))"
   ]
  },
  {
   "cell_type": "code",
   "execution_count": 24,
   "metadata": {},
   "outputs": [
    {
     "name": "stdout",
     "output_type": "stream",
     "text": [
      "[ 0.8 -0.2]\n"
     ]
    }
   ],
   "source": [
    "import numpy as np \n",
    "D = np.array([[28.,12.], \n",
    "              [12.,8.]])\n",
    "Y = np.array([20,8])  # Вектор (правая часть системы)\n",
    "x = np.linalg.solve(D, Y)\n",
    "\n",
    "print(x)"
   ]
  },
  {
   "cell_type": "code",
   "execution_count": 4,
   "metadata": {},
   "outputs": [
    {
     "name": "stdout",
     "output_type": "stream",
     "text": [
      "  0.62\n",
      " -0.10\n",
      "  0.17\n"
     ]
    }
   ],
   "source": [
    "import numpy as np  \n",
    "M3 = np.array([[30.,8.,12.], \n",
    "               [8.,30.,12.], \n",
    "               [12.,12.,10.]]) \n",
    "V3 = np.array([20.,4.,8.])  \n",
    "x = np.linalg.solve(M3, V3)\n",
    "for x in x:\n",
    "    print(\"{0:6.2f}\".format(x))"
   ]
  },
  {
   "cell_type": "code",
   "execution_count": null,
   "metadata": {},
   "outputs": [],
   "source": []
  }
 ],
 "metadata": {
  "kernelspec": {
   "display_name": "Python 3",
   "language": "python",
   "name": "python3"
  },
  "language_info": {
   "codemirror_mode": {
    "name": "ipython",
    "version": 3
   },
   "file_extension": ".py",
   "mimetype": "text/x-python",
   "name": "python",
   "nbconvert_exporter": "python",
   "pygments_lexer": "ipython3",
   "version": "3.7.0"
  }
 },
 "nbformat": 4,
 "nbformat_minor": 2
}
