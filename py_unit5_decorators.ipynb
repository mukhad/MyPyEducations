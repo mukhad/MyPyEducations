{
 "cells": [
  {
   "cell_type": "markdown",
   "metadata": {},
   "source": [
    "# Метапрограммирование  Декораторы"
   ]
  },
  {
   "cell_type": "code",
   "execution_count": 1,
   "metadata": {},
   "outputs": [],
   "source": [
    "_sqr_cache = {}\n",
    "def sqr(x):\n",
    "    if x not in _sqr_cache:\n",
    "        _sqr_cache[x] = x * x\n",
    "    return _sqr_cache[x]\n",
    "\n",
    "half_cache = {}\n",
    "def half(x):\n",
    "    if x not in _half_cache:\n",
    "        _half_cache[x] = x // 2\n",
    "    return _half_cache[x]\n"
   ]
  },
  {
   "cell_type": "code",
   "execution_count": 2,
   "metadata": {},
   "outputs": [
    {
     "data": {
      "text/plain": [
       "(25, 400, {5: 25, 20: 400})"
      ]
     },
     "execution_count": 2,
     "metadata": {},
     "output_type": "execute_result"
    }
   ],
   "source": [
    "sqr(5),sqr(20),_sqr_cache\n"
   ]
  },
  {
   "cell_type": "code",
   "execution_count": 33,
   "metadata": {},
   "outputs": [],
   "source": [
    "def cached(func):\n",
    "    cache= {}\n",
    "    def new_func(x):\n",
    "        if x not in cache:\n",
    "            cache[x] = func(x)\n",
    "        return cache[x]\n",
    "    return new_func\n",
    "\n",
    "@cached\n",
    "def sqr_c(x):\n",
    "    print(\"cached function sqr_c\")\n",
    "    return x*x\n",
    "@cached\n",
    "def half_c(x):\n",
    "    print(\"cached function half\")\n",
    "    return x // 2\n"
   ]
  },
  {
   "cell_type": "code",
   "execution_count": 34,
   "metadata": {},
   "outputs": [
    {
     "name": "stdout",
     "output_type": "stream",
     "text": [
      "cached function sqr_c\n",
      "cached function half\n"
     ]
    },
    {
     "data": {
      "text/plain": [
       "(25, 25, 5, 5)"
      ]
     },
     "execution_count": 34,
     "metadata": {},
     "output_type": "execute_result"
    }
   ],
   "source": [
    "sqr_c(5),sqr_c(5),half_c(10),half_c(10)"
   ]
  },
  {
   "cell_type": "markdown",
   "metadata": {},
   "source": [
    "## Декоратор функции с параметрами"
   ]
  },
  {
   "cell_type": "code",
   "execution_count": 63,
   "metadata": {},
   "outputs": [],
   "source": [
    "from functools import wraps\n",
    "\n",
    "def cached_l(limit):\n",
    "    def decorator(func):\n",
    "        cache= {}\n",
    "        #wraps - \"проброс\" описания функции sqr_l.__doc__\n",
    "        @wraps(func)           \n",
    "        def new_func(x):\n",
    "            if len(cache)>=limit:\n",
    "                print(len(cache),\" \",limit)\n",
    "                raise RuntimeError\n",
    "                cache.clear()\n",
    "                \n",
    "            if x not in cache:\n",
    "                cache[x] = func(x)\n",
    "            return cache[x]\n",
    "        return new_func\n",
    "    return decorator\n",
    "\n",
    "@cached_l(limit=3)\n",
    "def sqr_l(x):\n",
    "    \"\"\"cached function sqr_l \"\"\"\n",
    "    print(\"cached function sqr_l \", x)\n",
    "    return x*x\n"
   ]
  },
  {
   "cell_type": "raw",
   "metadata": {},
   "source": [
    "sqr_l(3),sqr_l(3),sqr_l(4),sqr_l(5),sqr_l(6),sqr_l(3)"
   ]
  },
  {
   "cell_type": "markdown",
   "metadata": {},
   "source": [
    "## Декораторы класса"
   ]
  },
  {
   "cell_type": "code",
   "execution_count": 12,
   "metadata": {},
   "outputs": [
    {
     "name": "stdout",
     "output_type": "stream",
     "text": [
      "<function Number.sqr at 0x04A62780>\n",
      "<function Number.half at 0x04A62AE0>\n"
     ]
    }
   ],
   "source": [
    "def classcached(method):\n",
    "    method_name = method.__name__\n",
    "    print(method)\n",
    "    \n",
    "    def new_method(self):\n",
    "        if method_name not in self.CACHE:\n",
    "            self.CACHE[method_name] = {}\n",
    "        cache = self.CACHE[method_name]\n",
    "        \n",
    "        if self._value not in cache:\n",
    "            cache[self._value] = method(self)\n",
    "        return cache[self._value]\n",
    "    return new_method\n",
    "\n",
    "class Number:\n",
    "    CACHE = {}\n",
    "    \n",
    "    def __init__(self,value):\n",
    "        self._value = value\n",
    "    \n",
    "    @classcached\n",
    "    def sqr(self):\n",
    "        return type(self)(self._value * self._value)\n",
    "    \n",
    "    @classcached    \n",
    "    def half(self):\n",
    "        return type(self)(self._value // 2)\n",
    "    \n",
    "    def __repr__(self):\n",
    "        return 'Number({0})'.format(self._value)\n",
    "    \n",
    "\n"
   ]
  },
  {
   "cell_type": "code",
   "execution_count": 13,
   "metadata": {},
   "outputs": [],
   "source": [
    "a = Number(4).sqr()"
   ]
  },
  {
   "cell_type": "code",
   "execution_count": 14,
   "metadata": {},
   "outputs": [
    {
     "data": {
      "text/plain": [
       "{'sqr': {4: Number(16)}}"
      ]
     },
     "execution_count": 14,
     "metadata": {},
     "output_type": "execute_result"
    }
   ],
   "source": [
    "a.CACHE\n"
   ]
  },
  {
   "cell_type": "markdown",
   "metadata": {},
   "source": [
    "## Кеширование всех методов класса"
   ]
  },
  {
   "cell_type": "code",
   "execution_count": 23,
   "metadata": {},
   "outputs": [
    {
     "name": "stdout",
     "output_type": "stream",
     "text": [
      "<function NumberAll.sqr at 0x04A62858>\n",
      "<function NumberAll.half at 0x04A62ED0>\n"
     ]
    }
   ],
   "source": [
    "def class_all_cached(method):\n",
    "    method_name = method.__name__\n",
    "    print(method)\n",
    "    \n",
    "    def new_method(self):\n",
    "        if method_name not in self.CACHE:\n",
    "            self.CACHE[method_name] = {}\n",
    "        cache = self.CACHE[method_name]\n",
    "        \n",
    "        if self._value not in cache:\n",
    "            cache[self._value] = method(self)\n",
    "        return cache[self._value]\n",
    "    return new_method\n",
    "\n",
    "def cache_all(cclass):\n",
    "    for attr_name in ['sqr','half']:         ### ???\n",
    "        attr = getattr(cclass,attr_name)\n",
    "        setattr(cclass,attr_name,class_all_cached(attr))\n",
    "    return cclass\n",
    "\n",
    "@cache_all\n",
    "class NumberAll:\n",
    "    CACHE = {}\n",
    "    \n",
    "    def __init__(self,value):\n",
    "        self._value = value\n",
    "    \n",
    "    def sqr(self):\n",
    "        return type(self)(self._value * self._value)\n",
    "    \n",
    "    def half(self):\n",
    "        return type(self)(self._value // 2)\n",
    "    \n",
    "    def __repr__(self):\n",
    "        return 'Number({0})'.format(self._value)\n",
    "    \n"
   ]
  },
  {
   "cell_type": "markdown",
   "metadata": {},
   "source": [
    "### Автоматическое кеширование отмеченных методов класса"
   ]
  },
  {
   "cell_type": "code",
   "execution_count": 39,
   "metadata": {},
   "outputs": [
    {
     "name": "stdout",
     "output_type": "stream",
     "text": [
      "<function NumberA.sqr at 0x04A6E030>\n",
      "<function NumberA.half at 0x04A6E6A8>\n"
     ]
    }
   ],
   "source": [
    "def cachedAuto(method):\n",
    "    method._cached = True\n",
    "    return method\n",
    "\n",
    "\n",
    "def make_cached(method,cache_name):\n",
    "    method_name = method.__name__\n",
    "    print(method)\n",
    "    \n",
    "    def new_method(self):\n",
    "        global_cache = getattr(self,cache_name)\n",
    "        if method_name not in global_cache:\n",
    "            global_cache[method_name] = {}\n",
    "        cache = global_cache[method_name]\n",
    "        \n",
    "        if self._value not in cache:\n",
    "            cache[self._value] = method(self)\n",
    "        return cache[self._value]\n",
    "    return new_method\n",
    "\n",
    "#def cached_auto(cclass):    \n",
    "#    for attr_name in cclass.__dict__:\n",
    "#        attr = getattr(cclass,attr_name)\n",
    "#        if hasattr(attr,'_cached') and attr._cached:\n",
    "#            setattr(cclass,attr_name,make_cached(attr))\n",
    "#    return cclass\n",
    "\n",
    "def cached_autoM(cache_name):\n",
    "    def decorator(cclass):\n",
    "        setattr(cclass,cache_name,{})\n",
    "        \n",
    "        for attr_name in cclass.__dict__:\n",
    "            attr = getattr(cclass,attr_name)\n",
    "            if hasattr(attr,'_cached') and attr._cached:\n",
    "                setattr(cclass,attr_name,make_cached(attr,cache_name))\n",
    "        return cclass\n",
    "    return decorator\n",
    "\n",
    "\n",
    "@cached_autoM('CACHE_M')\n",
    "class NumberA:\n",
    "    ###CACHE = {}\n",
    "    \n",
    "    def __init__(self,value):\n",
    "        self._value = value\n",
    "    \n",
    "    @cachedAuto\n",
    "    def sqr(self):\n",
    "        return type(self)(self._value * self._value)\n",
    "    \n",
    "    @cachedAuto\n",
    "    def half(self):\n",
    "        return type(self)(self._value // 2)\n",
    "    \n",
    "    def __repr__(self):\n",
    "        return 'Number({0})'.format(self._value)\n",
    "    \n"
   ]
  },
  {
   "cell_type": "code",
   "execution_count": 40,
   "metadata": {},
   "outputs": [
    {
     "data": {
      "text/plain": [
       "(Number(9), {'sqr': {3: Number(9)}})"
      ]
     },
     "execution_count": 40,
     "metadata": {},
     "output_type": "execute_result"
    }
   ],
   "source": [
    "NumberA(3).sqr(),NumberA.CACHE_M"
   ]
  },
  {
   "cell_type": "code",
   "execution_count": 41,
   "metadata": {},
   "outputs": [
    {
     "data": {
      "text/plain": [
       "Number(9)"
      ]
     },
     "execution_count": 41,
     "metadata": {},
     "output_type": "execute_result"
    }
   ],
   "source": [
    "NumberA(3).sqr()\n"
   ]
  },
  {
   "cell_type": "code",
   "execution_count": null,
   "metadata": {},
   "outputs": [],
   "source": []
  }
 ],
 "metadata": {
  "kernelspec": {
   "display_name": "Python 3",
   "language": "python",
   "name": "python3"
  },
  "language_info": {
   "codemirror_mode": {
    "name": "ipython",
    "version": 3
   },
   "file_extension": ".py",
   "mimetype": "text/x-python",
   "name": "python",
   "nbconvert_exporter": "python",
   "pygments_lexer": "ipython3",
   "version": "3.7.0"
  }
 },
 "nbformat": 4,
 "nbformat_minor": 2
}
