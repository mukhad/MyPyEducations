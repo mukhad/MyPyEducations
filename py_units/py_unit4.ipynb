{
 "cells": [
  {
   "cell_type": "code",
   "execution_count": 2,
   "metadata": {},
   "outputs": [
    {
     "name": "stdout",
     "output_type": "stream",
     "text": [
      "True\n"
     ]
    }
   ],
   "source": [
    "from datetime import datetime\n",
    "with open('tmp.txt','w') as f:\n",
    "    f.write(\"hello,  time: \" + str(datetime.now()))\n",
    "print(f.closed)"
   ]
  },
  {
   "cell_type": "code",
   "execution_count": 3,
   "metadata": {},
   "outputs": [
    {
     "name": "stdout",
     "output_type": "stream",
     "text": [
      "hello,  time: 2019-03-22 19:15:40.980094\n"
     ]
    },
    {
     "ename": "ValueError",
     "evalue": "",
     "output_type": "error",
     "traceback": [
      "\u001b[1;31m---------------------------------------------------------------------------\u001b[0m",
      "\u001b[1;31mValueError\u001b[0m                                Traceback (most recent call last)",
      "\u001b[1;32m<ipython-input-3-81dbe3a7a417>\u001b[0m in \u001b[0;36m<module>\u001b[1;34m\u001b[0m\n\u001b[0;32m     12\u001b[0m \u001b[1;32mwith\u001b[0m \u001b[0mFileObj\u001b[0m\u001b[1;33m(\u001b[0m\u001b[1;34m'tmp.txt'\u001b[0m\u001b[1;33m,\u001b[0m\u001b[1;34m'r'\u001b[0m\u001b[1;33m)\u001b[0m \u001b[1;32mas\u001b[0m \u001b[0mf1\u001b[0m\u001b[1;33m:\u001b[0m\u001b[1;33m\u001b[0m\u001b[0m\n\u001b[0;32m     13\u001b[0m     \u001b[0mprint\u001b[0m\u001b[1;33m(\u001b[0m\u001b[0mf1\u001b[0m\u001b[1;33m.\u001b[0m\u001b[0mread\u001b[0m\u001b[1;33m(\u001b[0m\u001b[1;33m)\u001b[0m\u001b[1;33m)\u001b[0m\u001b[1;33m\u001b[0m\u001b[0m\n\u001b[1;32m---> 14\u001b[1;33m     \u001b[1;32mraise\u001b[0m\u001b[1;33m(\u001b[0m\u001b[0mValueError\u001b[0m\u001b[1;33m)\u001b[0m\u001b[1;33m\u001b[0m\u001b[0m\n\u001b[0m",
      "\u001b[1;31mValueError\u001b[0m: "
     ]
    }
   ],
   "source": [
    "class FileObj(object):\n",
    "    #fo  #file object\n",
    "    def __init__(self, file_name, method):\n",
    "        self.fo = open(file_name, method)\n",
    "    def __enter__(self):\n",
    "        return self.fo\n",
    "    def __exit__(self,type,value,traceback):\n",
    "        # ....\n",
    "        # ....\n",
    "        self.fo.close()\n",
    "        \n",
    "with FileObj('tmp.txt','r') as f1:\n",
    "    print(f1.read())\n",
    "    raise(ValueError)\n"
   ]
  },
  {
   "cell_type": "code",
   "execution_count": null,
   "metadata": {},
   "outputs": [],
   "source": [
    "print(f1)\n",
    "print(f1.closed)\n",
    "    "
   ]
  },
  {
   "cell_type": "code",
   "execution_count": null,
   "metadata": {},
   "outputs": [],
   "source": [
    "from datetime import datetime\n",
    "with open('tmp_utf.txt','w',encoding='utf8') as f2:\n",
    "    f2.write(\"Привет, время записи time: \" + str(datetime.now()))\n",
    "print(f2.closed)\n",
    "print(f2)"
   ]
  },
  {
   "cell_type": "code",
   "execution_count": null,
   "metadata": {},
   "outputs": [],
   "source": [
    "with open('tmp_utf.txt','rb') as f3:\n",
    "    line = f3.read()\n",
    "print(line)\n",
    "print(\"{0}   {1}\".format(f3,f3.closed))\n",
    "print(line.decode('utf8'))\n"
   ]
  },
  {
   "cell_type": "markdown",
   "metadata": {},
   "source": [
    "# Bytes"
   ]
  },
  {
   "cell_type": "code",
   "execution_count": null,
   "metadata": {},
   "outputs": [],
   "source": [
    "import struct  "
   ]
  },
  {
   "cell_type": "markdown",
   "metadata": {},
   "source": [
    "# Pickle"
   ]
  },
  {
   "cell_type": "code",
   "execution_count": null,
   "metadata": {},
   "outputs": [],
   "source": [
    "import pickle\n",
    "class A:\n",
    "    fid=123\n",
    "    def __init__(self,a):\n",
    "        self.a = a\n",
    "    def __str__(self):\n",
    "        return \"hello # \" + str(self.a)\n",
    "    def __repr__(self):\n",
    "        return \"class A({0})\".format(self.a)\n",
    "    \n",
    "    \n",
    "a = A(10)\n",
    "print(a)\n",
    "\n",
    "t1 = [1,(1,2,3),'b',a]\n",
    "print(t1)\n",
    "s = pickle.dumps(t1)\n",
    "print(s)\n",
    "\n",
    "t2 = pickle.loads(s)\n",
    "print(t2)"
   ]
  },
  {
   "cell_type": "code",
   "execution_count": null,
   "metadata": {
    "scrolled": false
   },
   "outputs": [],
   "source": [
    "%%time\n",
    "\n",
    "import requests\n",
    "import json\n",
    "\n",
    "r = requests.get('http://date.jsontest.com/')"
   ]
  },
  {
   "cell_type": "code",
   "execution_count": null,
   "metadata": {},
   "outputs": [],
   "source": [
    "%%time\n",
    "print(r,r.ok,r.status_code)\n",
    "print(type(r.headers))\n",
    "for k in r.headers:\n",
    "    print(k,\":\\t\", r.headers[k])\n",
    "print(r.content)\n",
    "print(json.loads(r.content))\n",
    "print(r.json())\n",
    "\n"
   ]
  },
  {
   "cell_type": "markdown",
   "metadata": {},
   "source": [
    "# Потоки"
   ]
  },
  {
   "cell_type": "code",
   "execution_count": 4,
   "metadata": {},
   "outputs": [
    {
     "name": "stdout",
     "output_type": "stream",
     "text": [
      "5a105e8b9d40e1329780d62ea2265d8a\n",
      "Wall time: 325 ms\n"
     ]
    }
   ],
   "source": [
    "%%time\n",
    "import requests\n",
    "base_url = \"http://md5.jsontest.com/?text=\"\n",
    "\n",
    "def slow_md5(data):\n",
    "    r = requests.get(base_url+data)\n",
    "    if r.ok:\n",
    "        rez = r.json()\n",
    "        return rez.get('md5')\n",
    "    else:\n",
    "        print(\"error\")\n",
    "    \n",
    "print(slow_md5('test1'))\n"
   ]
  },
  {
   "cell_type": "code",
   "execution_count": null,
   "metadata": {},
   "outputs": [
    {
     "name": "stdout",
     "output_type": "stream",
     "text": [
      "thread end: 10\n"
     ]
    }
   ],
   "source": [
    "%%time\n",
    "import threading\n",
    "th_num = 2\n",
    "\n",
    "test_str = []\n",
    "for i in range(10):\n",
    "    test_str.append('test_{0}'.format(i))\n",
    "\n",
    "res = {}\n",
    "def th_run(ind):\n",
    "    while ind < len(test_str):\n",
    "        data = test_str[ind]\n",
    "        res[data] = slow_md5(data)\n",
    "        ind += th_num\n",
    "    print('thread end: {0}'.format(ind))\n",
    "\n",
    "threads = []\n",
    "for i in range(th_num):\n",
    "    t = threading.Thread(target = th_run, args=(i,))\n",
    "    t.start()\n",
    "    threads.append(t)\n",
    "    \n",
    "for t in threads:\n",
    "    t.join()\n",
    "\n",
    "    \n",
    "# Что-то не работает"
   ]
  },
  {
   "cell_type": "markdown",
   "metadata": {},
   "source": [
    "# Сокеты\n"
   ]
  },
  {
   "cell_type": "code",
   "execution_count": null,
   "metadata": {},
   "outputs": [],
   "source": [
    "import socket\n",
    "def listen():\n",
    "    con = socket.socket(socket.AF_INET, socket.SOCK_STREAM)\n",
    "    con.setsockopt(socket.SOL_SOCKET, socket.SO_REUSEADDR,1)\n",
    "    con.bind(('127.0.0.1',5555))\n",
    "    con.listen(10)\n",
    "    while True:\n",
    "        cur_con,addr = con.accept()\n",
    "        while True:\n",
    "            data = cur_con.recv(2048)\n",
    "            \n",
    "            if data == b'stop\\n':\n",
    "                cur_con.shutdown(1)\n",
    "                cur_con.close()\n",
    "                return\n",
    "            elif data:\n",
    "                cur_con.send(data.upper())\n",
    "listen()"
   ]
  }
 ],
 "metadata": {
  "kernelspec": {
   "display_name": "Python 3",
   "language": "python",
   "name": "python3"
  },
  "language_info": {
   "codemirror_mode": {
    "name": "ipython",
    "version": 3
   },
   "file_extension": ".py",
   "mimetype": "text/x-python",
   "name": "python",
   "nbconvert_exporter": "python",
   "pygments_lexer": "ipython3",
   "version": "3.7.0"
  }
 },
 "nbformat": 4,
 "nbformat_minor": 2
}
