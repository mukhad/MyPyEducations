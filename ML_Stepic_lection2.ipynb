{
 "cells": [
  {
   "cell_type": "markdown",
   "metadata": {},
   "source": [
    "# Машинное обучение лекции Stepic\n",
    "Лекция 2"
   ]
  },
  {
   "cell_type": "code",
   "execution_count": null,
   "metadata": {},
   "outputs": [],
   "source": [
    "Таблица содержит праметры моделей. Посчитать недостающий размер."
   ]
  },
  {
   "cell_type": "code",
   "execution_count": 120,
   "metadata": {},
   "outputs": [
    {
     "name": "stdout",
     "output_type": "stream",
     "text": [
      "7 x 6\n",
      "1: [99, 89, 91, 91, 86, 97]      \t|  92.17 \t|   4.92\n",
      "2: [56, 58, 64, 51, 56, 53]      \t|  56.33 \t|   4.50\n",
      "3: [91, 89, 91, 91, 84, 86]      \t|  88.67 \t|   3.01\n",
      "4: [160, 157, 165, 170, 157, 175]      \t| 164.00 \t|   7.38\n",
      "5: [58, 48, 54, 54, 44, 56]      \t|  52.33 \t|   5.28\n",
      "1->2 KK:  -0.22\n",
      "1->3 KK:   0.34\n",
      "1->4 KK:   0.46\n",
      "1->5 KK:   0.91\n"
     ]
    }
   ],
   "source": [
    "import csv\n",
    "from statistics import mean \n",
    "from statistics import stdev\n",
    "import math\n",
    "\n",
    "def open_csv(filename,newline=''):\n",
    "    with open(filename, \"r\") as file:\n",
    "        reader = csv.reader(file,delimiter=';')\n",
    "        \n",
    "        data = list()\n",
    "        reader.__next__()\n",
    "        for row in reader:            \n",
    "            data.append(row)\n",
    "            #print(\", \".join(row))\n",
    "    return data\n",
    "            \n",
    "            \n",
    "dt = open_csv(\"ml_empl_lect2.csv\")\n",
    "\n",
    "\n",
    "s = list()\n",
    "\n",
    "#for i in dt:\n",
    "#    print(i)\n",
    "    \n",
    "print (len(dt),\"x\",len(dt[0]))\n",
    "    \n",
    "for k in range(1,len(dt[0])):\n",
    "    s = list()\n",
    "    for i in dt:\n",
    "        s.append(i[k])\n",
    "    s = [int(elem) for elem in s]\n",
    "    print(\"{3}: {0}      \\t| {1:6.2f} \\t| {2:6.2f}\".format(s[:-1],mean(s[:-1]),stdev(s[:-1]),k))\n",
    "    \n",
    "    \n",
    "\n",
    "\n",
    "for ind in range(2,6):    \n",
    "    p = list()\n",
    "    q = list()        \n",
    "\n",
    "    for i in dt:\n",
    "        p.append(i[1])\n",
    "        q.append(i[ind])\n",
    "\n",
    "    p = [int(elem) for elem in p]\n",
    "    q = [int(elem) for elem in q]\n",
    "\n",
    "    p_m =  mean(p[:-1])   \n",
    "    q_m =  mean(q[:-1])  \n",
    "\n",
    "    p_s = stdev(p[:-1])\n",
    "    q_s = stdev(q[:-1])\n",
    "\n",
    "    n = len(p[:-1])\n",
    "\n",
    "    M = 0\n",
    "    for i in range(0,n):\n",
    "        M += p[i]*q[i]\n",
    "\n",
    "    KK = (M - n*p_m*q_m)/((n-1)*p_s*q_s)\n",
    "\n",
    "    print(\"1->{1} KK: {0:6.2f}\".format(KK,ind))\n",
    "\n",
    "\n",
    "    \n",
    "\n"
   ]
  },
  {
   "cell_type": "code",
   "execution_count": 132,
   "metadata": {},
   "outputs": [
    {
     "name": "stdout",
     "output_type": "stream",
     "text": [
      "2.0\n",
      "evklid:   2.83  manhetten:   4.00  mx:   2.00\n"
     ]
    }
   ],
   "source": [
    "#task 2\n",
    "import math\n",
    "\n",
    "p1=[0,1,2] \n",
    "p2=[2,1,0]\n",
    "\n",
    "n = len(p1)\n",
    "\n",
    "evklid = 0\n",
    "manhetten = 0\n",
    "mx = list()\n",
    "\n",
    "\n",
    "for i in range(0,n):\n",
    "    evklid += math.pow(p1[i] - p2[i],2)\n",
    "    manhetten += math.fabs(p1[i] - p2[i])\n",
    "    mx.append(math.fabs(p1[i] - p2[i]))\n",
    "evklid = math.sqrt(evklid)\n",
    "\n",
    "print(\"evklid: {0:6.2f}  manhetten: {1:6.2f}  mx: {2:6.2f}\".format(evklid,manhetten,max(mx) ))\n",
    "              "
   ]
  },
  {
   "cell_type": "code",
   "execution_count": 138,
   "metadata": {},
   "outputs": [
    {
     "name": "stdout",
     "output_type": "stream",
     "text": [
      "0.2\n",
      "0.0\n"
     ]
    }
   ],
   "source": [
    "import math\n",
    "#task 3\n",
    "p=[1,0,5,2,2]\n",
    "p1 = (p[0] - min(p)) / (max(p) - min(p))\n",
    "print(p1)\n",
    "\n",
    "#task 4\n",
    "p=[1,0,5,2,2]\n",
    "p5 = (p[4] - mean(p))/stdev(p)\n",
    "print(p5)"
   ]
  },
  {
   "cell_type": "raw",
   "metadata": {},
   "source": [
    "Следующая таблица содержит информацию об оценках, выставленных фильмам.\n",
    "   ф1 ф2 ф3 ф4 \n",
    "Вася (5,5,5,3)\n",
    "Петя (5,3,4,4)\n",
    "Маша (2,5,3,5)\n",
    "Саша (3,4,4,x)\n",
    "Требуется оценить, какую оценку поставит Саша фильму «Гарри Поттер». Сделаем это с помощью метрики Манхэттен (для простоты вычислений данные в таблице нормировать не нужно). Для этого подсчитаем расстояния от Саши до других людей, используя информацию из первых 3 столбцов. Чему равна ожидаемая оценка для «Гарри Поттера» (округлить до одного знака после запятой)?"
   ]
  },
  {
   "cell_type": "code",
   "execution_count": 150,
   "metadata": {},
   "outputs": [
    {
     "name": "stdout",
     "output_type": "stream",
     "text": [
      "r:  [4.0, 3.0, 3.0]\n",
      "3 4.0\n",
      "4 3.0\n",
      "5 3.0\n",
      "  4.09\n"
     ]
    }
   ],
   "source": [
    "import math\n",
    "\n",
    "def manh(p,q):\n",
    "    \n",
    "    n = len(p)\n",
    "    m = 0\n",
    "    for i in range(0,n):\n",
    "        m += math.fabs(p[i] - q[i])\n",
    "    return m\n",
    "\n",
    "p1 = [5,5,5,3]\n",
    "p2 = [5,3,4,4]\n",
    "p3 = [2,5,3,5]\n",
    "p =  [3,4,4,0]\n",
    "\n",
    "m = list()\n",
    "m.append(manh(p1[:-1],p[:-1]))\n",
    "m.append(manh(p2[:-1],p[:-1]))\n",
    "m.append(manh(p3[:-1],p[:-1]))\n",
    "print(\"r: \", m)\n",
    "\n",
    "pp = list()\n",
    "pp.append(p1[-1])\n",
    "pp.append(p2[-1])\n",
    "pp.append(p3[-1])\n",
    "\n",
    "r = 0\n",
    "s = 0\n",
    "for i in range(0,len(p)-1):\n",
    "    r += 1.0/m[i]\n",
    "    s += pp[i]/m[i]\n",
    "    \n",
    "    print(pp[i],m[i])\n",
    "    \n",
    "res = s/r\n",
    "\n",
    "print(\"{0:6.2f}\".format(res))\n",
    "\n",
    "\n"
   ]
  },
  {
   "cell_type": "raw",
   "metadata": {},
   "source": [
    "Таблица содержит сведения о заказах анонимных пользователей в интернет-магазине.\n",
    "Пропуски — Заполните пропуски\n",
    "По строкам отложены наименования товаров, а столбцы — номера заказов (в ячейке стоит 1, если товар входит в соответствующий заказ; 0 — в противном случае). При построении рекомендательной системы необходимо оценить степень похожести товаров с помощью вычисления евклидовой метрики. Наиболее похожим (близким) на товар А будет товар С и расстояние между этими товарами равно  (ответ округлить до сотых)."
   ]
  },
  {
   "cell_type": "code",
   "execution_count": 37,
   "metadata": {},
   "outputs": [
    {
     "name": "stdout",
     "output_type": "stream",
     "text": [
      " p [1, 0, 1, 0, 1, 0] m:  0.50 s:  0.55\n",
      " q [1, 1, 0, 1, 1, 0] m:  0.67 s:  0.52\n",
      "KK:   0.00\n",
      "r:   1.73\n",
      "\n"
     ]
    }
   ],
   "source": [
    "from statistics import mean \n",
    "from statistics import stdev\n",
    "import math\n",
    "def print_d(info,p,m,s):\n",
    "    print(\" {0} {1} m:{2:6.2f} s:{3:6.2f}\".format(info,p,m,s))\n",
    "\n",
    "\n",
    "tb = [[1, 2, 3, 4, 5, 6],   #order\n",
    "      [1, 0, 1, 0, 1, 0],   #A\n",
    "      [0, 1, 1, 1, 0, 0],   #B\n",
    "      [1, 1, 0, 1, 1, 0],   #C\n",
    "      [1, 1, 0, 1, 1, 1]]   #D\n",
    " \n",
    "p = tb[1]\n",
    "q = tb[3]\n",
    "\n",
    "p_m =  mean(p)   \n",
    "q_m =  mean(q)  \n",
    "\n",
    "p_s = stdev(p)\n",
    "q_s = stdev(q)\n",
    "\n",
    "n = len(p)\n",
    "\n",
    "print_d(\"p\",p,p_m,p_s)\n",
    "print_d(\"q\",q,q_m,q_s)  \n",
    "\n",
    "M = 0\n",
    "ev=0\n",
    "for i in range(0,n):\n",
    "    M += p[i]*q[i]\n",
    "    ev += math.pow(p[i] - q[i],2)\n",
    "\n",
    "ev = math.sqrt(ev)\n",
    "    \n",
    "KK = (M - n*p_m*q_m)/((n-1)*p_s*q_s)\n",
    "\n",
    "print(\"KK: {0:6.2f}\".format(KK))\n",
    "print(\"r: {0:6.2f}\".format(ev))\n",
    "print()\n"
   ]
  },
  {
   "cell_type": "code",
   "execution_count": null,
   "metadata": {},
   "outputs": [],
   "source": []
  }
 ],
 "metadata": {
  "kernelspec": {
   "display_name": "Python 3",
   "language": "python",
   "name": "python3"
  },
  "language_info": {
   "codemirror_mode": {
    "name": "ipython",
    "version": 3
   },
   "file_extension": ".py",
   "mimetype": "text/x-python",
   "name": "python",
   "nbconvert_exporter": "python",
   "pygments_lexer": "ipython3",
   "version": "3.7.0"
  }
 },
 "nbformat": 4,
 "nbformat_minor": 2
}
