{
 "cells": [
  {
   "cell_type": "code",
   "execution_count": 4,
   "metadata": {},
   "outputs": [
    {
     "name": "stdout",
     "output_type": "stream",
     "text": [
      "0.5714285714285714\n",
      "0.6\n",
      "0.42857142857142855\n"
     ]
    }
   ],
   "source": [
    "TN = 25 #     0  1\n",
    "FN = 20 # 0  TN  FN\n",
    "FP = 10 # 1  FP  TP\n",
    "TP = 15 \n",
    "\n",
    "accuracy = (TN+TP)/(TN + TP + FN + FP)\n",
    "\n",
    "precision = TP / (TP+FP)\n",
    "\n",
    "recall = TP / (TP + FN)\n",
    "\n",
    "print(accuracy)\n",
    "print(precision)\n",
    "print(recall)"
   ]
  },
  {
   "cell_type": "code",
   "execution_count": 7,
   "metadata": {},
   "outputs": [
    {
     "name": "stdout",
     "output_type": "stream",
     "text": [
      "0.6\n",
      "0.6\n",
      "1.0\n"
     ]
    }
   ],
   "source": [
    "TN = 0  #     0  1\n",
    "FN = 0  # 0  TN  FN\n",
    "FP = 20 # 1  FP  TP\n",
    "TP = 30 \n",
    "\n",
    "accuracy = (TN+TP)/(TN + TP + FN + FP)\n",
    "\n",
    "precision = TP / (TP+FP)\n",
    "\n",
    "recall = TP / (TP + FN)\n",
    "\n",
    "print(accuracy)\n",
    "print(precision)\n",
    "print(recall)"
   ]
  },
  {
   "cell_type": "code",
   "execution_count": null,
   "metadata": {},
   "outputs": [],
   "source": []
  }
 ],
 "metadata": {
  "kernelspec": {
   "display_name": "Python 3",
   "language": "python",
   "name": "python3"
  },
  "language_info": {
   "codemirror_mode": {
    "name": "ipython",
    "version": 3
   },
   "file_extension": ".py",
   "mimetype": "text/x-python",
   "name": "python",
   "nbconvert_exporter": "python",
   "pygments_lexer": "ipython3",
   "version": "3.7.0"
  }
 },
 "nbformat": 4,
 "nbformat_minor": 2
}
