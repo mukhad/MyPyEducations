{
 "cells": [
  {
   "cell_type": "markdown",
   "metadata": {},
   "source": [
    "# Метапрограммирование  Методы"
   ]
  },
  {
   "cell_type": "code",
   "execution_count": 1,
   "metadata": {},
   "outputs": [],
   "source": [
    "class ListViewIterator:\n",
    "    def __init__(self,lst,start,stop):\n",
    "        self._lst = lst\n",
    "        self._start = start\n",
    "        self._stop = stop\n",
    "        \n",
    "        self._current = self._start\n",
    "        \n",
    "        \n",
    "    def __next__(self):\n",
    "        if self._current == self._stop:\n",
    "            raise StopIteration()\n",
    "        \n",
    "        result = self._lst[self._current]\n",
    "        self._current += 1\n",
    "        return result\n",
    "        \n",
    "\n",
    "class ListView:\n",
    "    def __init__(self,lst,start,stop):\n",
    "        self._lst = lst\n",
    "        self._start = start\n",
    "        self._stop = stop\n",
    "        \n",
    "    def __len__(self):\n",
    "        return self._stop - self._start    \n",
    "    \n",
    "    def __iter__(self):\n",
    "        #for i in range(self._start, self._stop):\n",
    "        #    yield self._lst[i]\n",
    "        \n",
    "        return ListViewIterator(self._lst,self._start,self._stop)\n",
    "    \n",
    "    def __getitem__(self,idx): \n",
    "        # возвращает ListView[idx]\n",
    "        if self._start + idx < self._stop:\n",
    "            return self._lst(self._start + idx)\n",
    "        else:\n",
    "            raise IndexError(idx)\n",
    "        "
   ]
  },
  {
   "cell_type": "code",
   "execution_count": 2,
   "metadata": {},
   "outputs": [
    {
     "data": {
      "text/plain": [
       "2"
      ]
     },
     "execution_count": 2,
     "metadata": {},
     "output_type": "execute_result"
    }
   ],
   "source": [
    "len(ListView([1,2,3,4],1,3))"
   ]
  },
  {
   "cell_type": "code",
   "execution_count": 3,
   "metadata": {},
   "outputs": [
    {
     "data": {
      "text/plain": [
       "[2, 3]"
      ]
     },
     "execution_count": 3,
     "metadata": {},
     "output_type": "execute_result"
    }
   ],
   "source": [
    "list(ListView([1,2,3,4],1,3))"
   ]
  },
  {
   "cell_type": "code",
   "execution_count": 4,
   "metadata": {},
   "outputs": [
    {
     "data": {
      "text/plain": [
       "<__main__.ListViewIterator at 0x44636f0>"
      ]
     },
     "execution_count": 4,
     "metadata": {},
     "output_type": "execute_result"
    }
   ],
   "source": [
    "itr = iter(ListView([1,2,3,4],1,3))\n",
    "itr"
   ]
  },
  {
   "cell_type": "code",
   "execution_count": 5,
   "metadata": {},
   "outputs": [],
   "source": [
    "class ValueOffset:\n",
    "    def __init__(self,value):\n",
    "        self.val = value\n",
    "    \n",
    "    def __add__(self, other):\n",
    "        # складывать только offset\n",
    "        if isinstance(other,type(self)):\n",
    "            return type(self)(self.val + other.val)\n",
    "        else:\n",
    "            return NotImplemented\n",
    "    \n",
    "class ListView:\n",
    "    def __init__(self,lst,start,stop):\n",
    "        self._lst = lst\n",
    "        self._start = start\n",
    "        self._stop = stop\n",
    "        \n",
    "    def __len__(self):\n",
    "        return self._stop - self._start    \n",
    "    \n",
    "    def __iter__(self):\n",
    "        return ListViewIterator(self._lst,self._start,self._stop)\n",
    "    \n",
    "    def __getitem__(self,idx): \n",
    "        # возвращает ListView[idx]\n",
    "        # idx может быть slice  [start:stop:step]\n",
    "        \n",
    "        if self._start + idx < self._stop:\n",
    "            return self._lst[self._start + idx]\n",
    "        else:\n",
    "            raise IndexError(idx)\n",
    "    \n",
    "    def __setitem__(self,idx,value): \n",
    "        # меняет ListView[idx]\n",
    "        if self._start + idx < self._stop:\n",
    "            self._lst[self._start + idx] = value            \n",
    "        else:\n",
    "            raise IndexError(idx)\n",
    "            \n",
    "    def __add__(self, offset):\n",
    "        print(\"add: сдвинутся по массиву lst на offset.val:\",offset.val)\n",
    "        if self._stop + offset.val > len(self._lst):\n",
    "            raise ValueError        \n",
    "        return type(self)(self._lst,\n",
    "                          self._start + offset.val,\n",
    "                          self._stop + offset.val)\n",
    "    \n",
    "    def __radd__(self,offset):        \n",
    "        print(\"radd: если offset не умеет складывать\")\n",
    "        return self + offset\n",
    "        \n",
    "    \n",
    "    \n",
    "        "
   ]
  },
  {
   "cell_type": "code",
   "execution_count": 6,
   "metadata": {},
   "outputs": [
    {
     "data": {
      "text/plain": [
       "2"
      ]
     },
     "execution_count": 6,
     "metadata": {},
     "output_type": "execute_result"
    }
   ],
   "source": [
    "ListView([0,1,2,3,4],1,3)[1]\n"
   ]
  },
  {
   "cell_type": "code",
   "execution_count": 7,
   "metadata": {},
   "outputs": [
    {
     "name": "stdout",
     "output_type": "stream",
     "text": [
      "[1, 2]\n",
      "add: сдвинутся по массиву lst на offset.val: -1\n",
      "[0, 1]\n",
      "radd: если offset не умеет складывать\n",
      "add: сдвинутся по массиву lst на offset.val: 2\n",
      "[2, 3]\n"
     ]
    }
   ],
   "source": [
    "a = ListView([0,1,2,3,4],1,3)\n",
    "print(list(a))\n",
    "\n",
    "#a[1] = 0\n",
    "a = a + ValueOffset(-1)\n",
    "print(list(a))\n",
    "\n",
    "a = ValueOffset(2) + a\n",
    "print(list(a))\n"
   ]
  },
  {
   "cell_type": "markdown",
   "metadata": {},
   "source": [
    "## collection.abc"
   ]
  },
  {
   "cell_type": "code",
   "execution_count": 14,
   "metadata": {},
   "outputs": [],
   "source": [
    "from collections.abc import Sequence\n",
    "class ListView(Sequence):\n",
    "    def __init__(self,lst,start,stop):\n",
    "        self._lst = lst\n",
    "        self._start = start\n",
    "        self._stop = stop\n",
    "        \n",
    "    def __len__(self):\n",
    "        return self._stop - self._start    \n",
    "    \n",
    "    def __getitem__(self,idx): \n",
    "        if self._start + idx < self._stop:\n",
    "            return self._lst[self._start + idx]\n",
    "        else:\n",
    "            raise IndexError(idx)\n",
    "\n"
   ]
  },
  {
   "cell_type": "code",
   "execution_count": 15,
   "metadata": {},
   "outputs": [
    {
     "data": {
      "text/plain": [
       "2"
      ]
     },
     "execution_count": 15,
     "metadata": {},
     "output_type": "execute_result"
    }
   ],
   "source": [
    "len(ListView([1,2,3,4],1,3))"
   ]
  },
  {
   "cell_type": "markdown",
   "metadata": {},
   "source": [
    "##  \\_\\_new\\_\\_"
   ]
  },
  {
   "cell_type": "code",
   "execution_count": 40,
   "metadata": {},
   "outputs": [
    {
     "name": "stdout",
     "output_type": "stream",
     "text": [
      "__new__  <super: <class 'Interval'>, <Interval object>>\n",
      "__init__\n",
      "<class Interval> 2 12\n"
     ]
    }
   ],
   "source": [
    "class Interval:\n",
    "    def __new__(cls,begin,end):\n",
    "        print (\"__new__ \",super())\n",
    "        if begin>end:\n",
    "            return None\n",
    "        return super().__new__(cls)\n",
    "    \n",
    "    def __init__(self,begin,end):\n",
    "        print(\"__init__\")\n",
    "        self.begin = begin\n",
    "        self.end = end\n",
    "    def __repr__(self):\n",
    "        return \"<class Interval> {0} {1}\".format(a.begin,a.end) \n",
    "        \n",
    "a = Interval(2,12)    \n",
    "print(a)"
   ]
  },
  {
   "cell_type": "code",
   "execution_count": null,
   "metadata": {},
   "outputs": [],
   "source": []
  }
 ],
 "metadata": {
  "kernelspec": {
   "display_name": "Python 3",
   "language": "python",
   "name": "python3"
  },
  "language_info": {
   "codemirror_mode": {
    "name": "ipython",
    "version": 3
   },
   "file_extension": ".py",
   "mimetype": "text/x-python",
   "name": "python",
   "nbconvert_exporter": "python",
   "pygments_lexer": "ipython3",
   "version": "3.7.0"
  }
 },
 "nbformat": 4,
 "nbformat_minor": 2
}
