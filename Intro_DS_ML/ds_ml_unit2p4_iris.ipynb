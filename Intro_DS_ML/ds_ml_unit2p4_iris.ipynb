{
 "cells": [
  {
   "cell_type": "code",
   "execution_count": 47,
   "metadata": {},
   "outputs": [
    {
     "name": "stdout",
     "output_type": "stream",
     "text": [
      "Wall time: 1 ms\n"
     ]
    }
   ],
   "source": [
    "%%time\n",
    "from sklearn import tree\n",
    "import pandas as pd\n",
    "import numpy as np\n",
    "import seaborn as sns\n",
    "import matplotlib.pyplot as plt\n",
    "%matplotlib inline"
   ]
  },
  {
   "cell_type": "code",
   "execution_count": 57,
   "metadata": {},
   "outputs": [],
   "source": [
    "train_iris = pd.read_csv('data/train_iris.csv',index_col=0)\n",
    "test_iris = pd.read_csv('data/test_iris.csv',index_col=0)"
   ]
  },
  {
   "cell_type": "code",
   "execution_count": 58,
   "metadata": {},
   "outputs": [],
   "source": [
    "x_train_iris = train_iris.drop(['species'],axis=1)\n",
    "y_train_iris = train_iris.species\n",
    "clf = tree.DecisionTreeClassifier(random_state=0,criterion='entropy')"
   ]
  },
  {
   "cell_type": "code",
   "execution_count": 59,
   "metadata": {},
   "outputs": [
    {
     "data": {
      "text/plain": [
       "1.0"
      ]
     },
     "execution_count": 59,
     "metadata": {},
     "output_type": "execute_result"
    }
   ],
   "source": [
    "clf.fit(x_train_iris,y_train_iris)\n",
    "clf.score(x_train_iris,y_train_iris)"
   ]
  },
  {
   "cell_type": "code",
   "execution_count": 60,
   "metadata": {},
   "outputs": [],
   "source": [
    "x_test_iris = test_iris.drop(['species'],axis=1)\n",
    "y_test_iris = test_iris.species"
   ]
  },
  {
   "cell_type": "code",
   "execution_count": 61,
   "metadata": {},
   "outputs": [
    {
     "data": {
      "text/plain": [
       "0.92"
      ]
     },
     "execution_count": 61,
     "metadata": {},
     "output_type": "execute_result"
    }
   ],
   "source": [
    "clf.score(x_test_iris,y_test_iris)"
   ]
  },
  {
   "cell_type": "code",
   "execution_count": 62,
   "metadata": {},
   "outputs": [],
   "source": [
    "rs = np.random.seed(0)  #makes the random numbers predictable\n",
    "\n",
    "max_depth_range = range(1,100)\n",
    "score_data = pd.DataFrame()\n",
    "for d in max_depth_range:\n",
    "    clfd = tree.DecisionTreeClassifier(criterion='entropy', max_depth=d,random_state=rs)\n",
    "    \n",
    "    clfd.fit(x_train_iris,y_train_iris)\n",
    "    \n",
    "    trn = clfd.score(x_train_iris,y_train_iris)    \n",
    "    tst = clfd.score(x_test_iris,y_test_iris)\n",
    "\n",
    "    df = pd.DataFrame({'depth':[d],\n",
    "                       'train':[trn],\n",
    "                       'test':[tst]})\n",
    "    score_data = score_data.append(df)   "
   ]
  },
  {
   "cell_type": "code",
   "execution_count": 63,
   "metadata": {},
   "outputs": [
    {
     "data": {
      "text/plain": [
       "<AxesSubplot:xlabel='depth', ylabel='score'>"
      ]
     },
     "execution_count": 63,
     "metadata": {},
     "output_type": "execute_result"
    },
    {
     "data": {
      "image/png": "[encoded data removed]",
      "text/plain": [
       "<Figure size 432x288 with 1 Axes>"
      ]
     },
     "metadata": {
      "needs_background": "light"
     },
     "output_type": "display_data"
    }
   ],
   "source": [
    "score_data_long = pd.melt(score_data,\n",
    "                          id_vars=['depth'],\n",
    "                          value_vars=['train','test'],\n",
    "                          var_name='type',value_name='score')\n",
    "sns.lineplot(x='depth', y='score',hue='type',data=score_data_long)"
   ]
  }
 ],
 "metadata": {
  "kernelspec": {
   "display_name": "Python 3",
   "language": "python",
   "name": "python3"
  },
  "language_info": {
   "codemirror_mode": {
    "name": "ipython",
    "version": 3
   },
   "file_extension": ".py",
   "mimetype": "text/x-python",
   "name": "python",
   "nbconvert_exporter": "python",
   "pygments_lexer": "ipython3",
   "version": "3.8.3"
  }
 },
 "nbformat": 4,
 "nbformat_minor": 4
}
