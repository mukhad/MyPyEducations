{
 "cells": [
  {
   "cell_type": "raw",
   "metadata": {},
   "source": [
    "осуществите перебор всех деревьев на данных ириса по следующим параметрам:\n",
    "\n",
    "    максимальная глубина - от 1 до 10 уровней\n",
    "    минимальное число проб для разделения - от 2 до 10\n",
    "    минимальное число проб в листе - от 1 до 10"
   ]
  },
  {
   "cell_type": "code",
   "execution_count": 1,
   "metadata": {},
   "outputs": [],
   "source": [
    "import pandas as pd\n",
    "from sklearn.tree import DecisionTreeClassifier\n",
    "from sklearn.model_selection import GridSearchCV\n",
    "#from sklearn.model_selection import RandomizedSearchCV\n",
    "from sklearn.datasets import load_iris\n",
    "\n",
    "iris = load_iris()\n",
    "X = iris.data\n",
    "y = iris.target"
   ]
  },
  {
   "cell_type": "raw",
   "metadata": {},
   "source": [
    "Чем больше данных, сложность модели и число её параметров, тем дольше будет вестись поиск GridSearchCV. Однако бывают случаи, когда модель нужна здесь и сейчас, и для этого есть RandomizedSearchCV! Пробегаясь по рандомной подвыборке параметров, он ищет наиболее хорошую модель и делает это быстрее полного перебора параметров, хотя и может пропустить оптимальные параметры."
   ]
  },
  {
   "cell_type": "code",
   "execution_count": 2,
   "metadata": {},
   "outputs": [],
   "source": [
    "# Инициализация Дерева\n",
    "dt = DecisionTreeClassifier()\n",
    "\n",
    "# Словарь параметров для Дерева и их диапазоном значений\n",
    "dt_params = {'max_depth': range(1, 10), \n",
    "             'min_samples_split': range(2, 10), \n",
    "             'min_samples_leaf': range(1, 10)}\n",
    "\n",
    "# Обучение Дерева с перебором значений параметров\n",
    "search = GridSearchCV(dt, param_grid=dt_params, cv=5)\n",
    "\n",
    "#search = RandomizedSearchCV(dt, param_distributions=dt_params, cv=5)\n",
    "\n",
    "\n",
    "search.fit(X, y)\n",
    "\n",
    "# Дерево с лучшим сочетаением параметров\n",
    "best_tree = search.best_estimator_\n",
    "\n",
    "#predictions = best_tree.predict(X_test)\n",
    "\n",
    "#conf_matrix = confusion_matrix(y, predictions)\n",
    "\n",
    "#Метрики в задачах машинного обучения\n",
    "#https://habr.com/ru/company/ods/blog/328372/"
   ]
  },
  {
   "cell_type": "code",
   "execution_count": 3,
   "metadata": {},
   "outputs": [
    {
     "data": {
      "text/plain": [
       "DecisionTreeClassifier(max_depth=3)"
      ]
     },
     "execution_count": 3,
     "metadata": {},
     "output_type": "execute_result"
    }
   ],
   "source": [
    "best_tree\n"
   ]
  },
  {
   "cell_type": "code",
   "execution_count": null,
   "metadata": {},
   "outputs": [],
   "source": []
  }
 ],
 "metadata": {
  "kernelspec": {
   "display_name": "Python 3",
   "language": "python",
   "name": "python3"
  },
  "language_info": {
   "codemirror_mode": {
    "name": "ipython",
    "version": 3
   },
   "file_extension": ".py",
   "mimetype": "text/x-python",
   "name": "python",
   "nbconvert_exporter": "python",
   "pygments_lexer": "ipython3",
   "version": "3.8.3"
  }
 },
 "nbformat": 4,
 "nbformat_minor": 4
}
