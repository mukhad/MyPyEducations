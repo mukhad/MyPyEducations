{
 "cells": [
  {
   "cell_type": "code",
   "execution_count": 4,
   "metadata": {},
   "outputs": [
    {
     "name": "stdout",
     "output_type": "stream",
     "text": [
      "7.5\n",
      "8\n",
      "--\n",
      "-1.5\n"
     ]
    }
   ],
   "source": [
    "p = [0.5, 3, 7.5, 6.5, -1.5, 8, 0]\n",
    "\n",
    "q1 = 4 + 1.5*(4-2)\n",
    "q2 = 2 - 1.5*(4-2)\n",
    "\n",
    "for i in p:\n",
    "    if i > q1:\n",
    "        print(i)\n",
    "\n",
    "print(\"--\")\n",
    "        \n",
    "for i in p:\n",
    "    if i < q2:\n",
    "        print(i)"
   ]
  },
  {
   "cell_type": "code",
   "execution_count": 8,
   "metadata": {},
   "outputs": [
    {
     "name": "stdout",
     "output_type": "stream",
     "text": [
      "True\n",
      "14\n",
      "13.5\n",
      "--\n",
      "6\n",
      "6.5\n"
     ]
    }
   ],
   "source": [
    "from math import sqrt\n",
    "#Среднее значение, отклонение и медиана десяти значений признака Р равны 10, 1.1 (одна целая одна десятая), и 9\n",
    "avr = 10\n",
    "s = 1.1\n",
    "m = 9\n",
    "p = [ 14, 13.5, 7, 6, 13, 6.5] \n",
    "\n",
    "n = len(p)\n",
    "\n",
    "b = (avr - m) < 3*s/sqrt(n)\n",
    "print(b)\n",
    "\n",
    "for i in p:\n",
    "    if i > avr+3*s:\n",
    "        print(i)\n",
    "\n",
    "print(\"--\")\n",
    "        \n",
    "for i in p:\n",
    "    if i < avr-3*s:\n",
    "        print(i)"
   ]
  },
  {
   "cell_type": "code",
   "execution_count": 24,
   "metadata": {},
   "outputs": [
    {
     "name": "stdout",
     "output_type": "stream",
     "text": [
      "0 12.0\n",
      "1 16.0\n",
      "2 16.0\n",
      "3 20.0\n"
     ]
    }
   ],
   "source": [
    "from math import fabs\n",
    "def rm(p,q):\n",
    "    r = 0\n",
    "    n = len(p)\n",
    "    for i in range(0,n):\n",
    "        r += fabs(p[i] - q[i])\n",
    "    return r\n",
    "    \n",
    "\n",
    "A = [ 1, 1, 0]\n",
    "B = [ 0, 2,-1]\n",
    "C = [ 2, 3, 1]\n",
    "D = [ 1, 0, 4]\n",
    "\n",
    "tb = [A, B, C, D]\n",
    "\n",
    "for i in range(0,4):\n",
    "    r = 0\n",
    "    for j in range(0,4):\n",
    "        r += rm(tb[i],tb[j])\n",
    "    print(i,r)    \n"
   ]
  },
  {
   "cell_type": "code",
   "execution_count": 25,
   "metadata": {},
   "outputs": [
    {
     "name": "stdout",
     "output_type": "stream",
     "text": [
      "3.0 4.0 True\n",
      "2.0 3.0 True\n",
      "5.0 2.0 False\n",
      "5.0 2.0 False\n",
      "3.0 4.0 True\n"
     ]
    }
   ],
   "source": [
    "from math import fabs\n",
    "\n",
    "x = [[4,2],\n",
    "     [3,2],\n",
    "     [1,-1],\n",
    "     [-1,1],\n",
    "     [0,4]  ]\n",
    "x1 = [2,3]\n",
    "x2 = [1,1]\n",
    "\n",
    "for x in x:\n",
    "    r1 = fabs(x[0] - x1[0]) + fabs(x[1] - x1[1])\n",
    "    r2 = fabs(x[0] - x2[0]) + fabs(x[1] - x2[1])\n",
    "    \n",
    "    print(r1,r2,r1<r2)\n",
    "    \n",
    "\n",
    "\n",
    "\n",
    "\n",
    "\n"
   ]
  }
 ],
 "metadata": {
  "kernelspec": {
   "display_name": "Python 3",
   "language": "python",
   "name": "python3"
  },
  "language_info": {
   "codemirror_mode": {
    "name": "ipython",
    "version": 3
   },
   "file_extension": ".py",
   "mimetype": "text/x-python",
   "name": "python",
   "nbconvert_exporter": "python",
   "pygments_lexer": "ipython3",
   "version": "3.7.0"
  }
 },
 "nbformat": 4,
 "nbformat_minor": 2
}
