{
 "cells": [
  {
   "cell_type": "code",
   "execution_count": 4,
   "metadata": {
    "scrolled": true
   },
   "outputs": [
    {
     "name": "stdout",
     "output_type": "stream",
     "text": [
      "[1, 2, 3]\n",
      "[1, 2, 3, 1, 2, 3, 1, 2, 3, 1, 2, 3, 1, 2, 3]\n"
     ]
    }
   ],
   "source": [
    "empty_list = []\n",
    "empty_list = list()\n",
    "not_empty_list = list([1,2,3])\n",
    "print(not_empty_list)\n",
    "print([1,2,3]*5)"
   ]
  },
  {
   "cell_type": "code",
   "execution_count": 18,
   "metadata": {},
   "outputs": [
    {
     "name": "stdout",
     "output_type": "stream",
     "text": [
      "['one', 'foo']\n",
      "['bar', 'one', 'foo']\n",
      "['bar', 'one', 'foo', 'foo2', '2']\n",
      "['bar', 'one', 'foo', 'foo2', '2', ['foo3', '3']]\n"
     ]
    }
   ],
   "source": [
    "ex_list = list([\"one\"])\n",
    "ex_list.append(\"foo\")\n",
    "print(ex_list)\n",
    "ex_list.insert(0,\"bar\")\n",
    "print(ex_list)\n",
    "ex_list.extend([\"foo2\",\"2\"])\n",
    "print(ex_list)\n",
    "ex_list.append([\"foo3\",\"3\"])\n",
    "print(ex_list)\n"
   ]
  },
  {
   "cell_type": "code",
   "execution_count": 24,
   "metadata": {},
   "outputs": [
    {
     "name": "stdout",
     "output_type": "stream",
     "text": [
      "4.25 µs ± 1.59 µs per loop (mean ± std. dev. of 7 runs, 1000 loops each)\n"
     ]
    }
   ],
   "source": [
    "benchmark_list = []\n",
    "%timeit -n 1000 benchmark_list.insert(0,\"bar\")"
   ]
  },
  {
   "cell_type": "code",
   "execution_count": 51,
   "metadata": {},
   "outputs": [
    {
     "name": "stdout",
     "output_type": "stream",
     "text": [
      "[1, 4, 5, 6, 7, 8, 9]\n",
      "[1, 4, 5, 6, 7, 9]\n",
      "[1, 4, 5, 6, 7]\n"
     ]
    }
   ],
   "source": [
    "a = [i for i in range(1,10)]\n",
    "del a[1:3]\n",
    "print(a)\n",
    "a.remove(8)\n",
    "print(a)\n",
    "del a[-1]\n",
    "print(a)"
   ]
  },
  {
   "cell_type": "code",
   "execution_count": 67,
   "metadata": {
    "scrolled": true
   },
   "outputs": [
    {
     "name": "stdout",
     "output_type": "stream",
     "text": [
      "[[0, 1, 2], 0, 1, 2, 3, 4, 5, 6, 7, 8, 9]\n",
      "[[0, 1, 2], 0, 1, 2, 3, 4, 5, 6, 7, 8, 9]\n",
      "[[0, 1, 2, 4], 0, 1, 2, 3, 4, 5, 6, 7, 8, 9]\n"
     ]
    }
   ],
   "source": [
    "a = [i for i in range(0,10)]\n",
    "b = [i for i in range(0,3)]\n",
    "a.insert(0,b)\n",
    "print(a)\n",
    "another = a\n",
    "print(another)\n",
    "b.append(4)\n",
    "print(another)"
   ]
  },
  {
   "cell_type": "code",
   "execution_count": 68,
   "metadata": {},
   "outputs": [
    {
     "name": "stdout",
     "output_type": "stream",
     "text": [
      "[[0, 1, 2], 0, 1, 2, 3, 4, 5, 6, 7, 8, 9]\n",
      "[[0, 1, 2], 0, 1, 2, 3, 4, 5, 6, 7, 8, 9]\n",
      "[[0, 1, 2], 0, 1, 2, 3, 4, 5, 6, 7, 8, 9]\n"
     ]
    }
   ],
   "source": [
    "from copy import deepcopy\n",
    "a = [i for i in range(0,10)]\n",
    "b = [i for i in range(0,3)]\n",
    "a.insert(0,b)\n",
    "print(a)\n",
    "another = deepcopy(a)\n",
    "print(another)\n",
    "b.append(4)\n",
    "print(another)"
   ]
  },
  {
   "cell_type": "code",
   "execution_count": null,
   "metadata": {},
   "outputs": [],
   "source": [
    "#Равенство и идентичность\n",
    "from copy import deepcopy\n",
    "lst1 = [1,2,3]\n",
    "lst2 = deepcopy(lst1)\n",
    "print(lst1 == lst2)  #по содержанию\n",
    "print(lst1 is lst2)  #по индентификвтору\n",
    "\n",
    "#для коротких строк is может давать True !!!\n"
   ]
  },
  {
   "cell_type": "markdown",
   "metadata": {},
   "source": [
    "### Sorting"
   ]
  },
  {
   "cell_type": "code",
   "execution_count": 72,
   "metadata": {},
   "outputs": [
    {
     "name": "stdout",
     "output_type": "stream",
     "text": [
      "[1, 2, 3, 4, 5]\n",
      "[1, 2, 3, 4, 5]\n",
      "[2, 1, 5, 4, 3]\n"
     ]
    }
   ],
   "source": [
    "uns1 = [2,1,5,4,3]\n",
    "uns2 = deepcopy(uns1)\n",
    "uns1.sort()\n",
    "print(uns1)\n",
    "print(sorted(uns2))\n",
    "print(uns2)"
   ]
  },
  {
   "cell_type": "markdown",
   "metadata": {},
   "source": [
    "### tuple"
   ]
  },
  {
   "cell_type": "code",
   "execution_count": 76,
   "metadata": {},
   "outputs": [
    {
     "name": "stdout",
     "output_type": "stream",
     "text": [
      "<class 'tuple'>\n"
     ]
    }
   ],
   "source": [
    "t1 = ()\n",
    "t2 = tuple()\n",
    "t3 = 1,2,3     #tuple\n",
    "t4 = (1,2,3)\n",
    "print(type(t3))\n",
    "t_int = (123)\n",
    "t_tuple = (123,)"
   ]
  },
  {
   "cell_type": "code",
   "execution_count": 78,
   "metadata": {},
   "outputs": [
    {
     "name": "stdout",
     "output_type": "stream",
     "text": [
      "012345678910111213141516171819\n"
     ]
    }
   ],
   "source": [
    "print(\"\".join([str(i) for i in range(20)]) )"
   ]
  },
  {
   "cell_type": "markdown",
   "metadata": {},
   "source": [
    "### dict"
   ]
  },
  {
   "cell_type": "code",
   "execution_count": 95,
   "metadata": {},
   "outputs": [
    {
     "name": "stdout",
     "output_type": "stream",
     "text": [
      "<class 'dict'>\n",
      "{'a': '1', 'b': '2'}\n",
      "None\n",
      "default str\n",
      "{0: None, 1: None, 2: None, 3: None, 4: None, 5: None, 6: None, 7: None, 8: None, 9: None}\n",
      "139 ns ± 1.41 ns per loop (mean ± std. dev. of 7 runs, 1000 loops each)\n"
     ]
    }
   ],
   "source": [
    "d1 = dict()\n",
    "d2 = {}\n",
    "print (type (d2))\n",
    "d3 = dict(a=\"1\",b=\"2\")\n",
    "print(d3)\n",
    "print(d3.get(\"x\"))\n",
    "print(d3.get(\"x\",\"default str\"))\n",
    "some_list = list(range(10))\n",
    "search_dict = dict.fromkeys(some_list)\n",
    "print(search_dict)\n",
    "%timeit -n1000 9 in search_dict \n",
    "#Поиск ключа dict быстрее, чем значения list"
   ]
  },
  {
   "cell_type": "code",
   "execution_count": 98,
   "metadata": {},
   "outputs": [
    {
     "name": "stdout",
     "output_type": "stream",
     "text": [
      "{'a': 1, 'c': 3, 'b': 2}\n"
     ]
    }
   ],
   "source": [
    "d1 = {\"a\":1,\"c\":3}\n",
    "d2 = {\"b\":2}\n",
    "d1.update(d2)  #объеденение\n",
    "print(d1)"
   ]
  },
  {
   "cell_type": "markdown",
   "metadata": {},
   "source": [
    "#### Копирование и глубокое копирование"
   ]
  },
  {
   "cell_type": "code",
   "execution_count": 99,
   "metadata": {},
   "outputs": [
    {
     "name": "stdout",
     "output_type": "stream",
     "text": [
      "{'a': 1, 'c': 3}\n",
      "{'a': 100, 'c': 3}\n"
     ]
    }
   ],
   "source": [
    "d1 = {\"a\":1,\"c\":3}\n",
    "d2 = d1.copy()\n",
    "d2[\"a\"]=100\n",
    "print(d1)\n",
    "print(d2)"
   ]
  },
  {
   "cell_type": "code",
   "execution_count": 100,
   "metadata": {},
   "outputs": [
    {
     "name": "stdout",
     "output_type": "stream",
     "text": [
      "{'a': [1, 2, 3, 4]}\n",
      "{'a': [1, 2, 3, 4]}\n"
     ]
    }
   ],
   "source": [
    "some_list = [1,2,3]\n",
    "d1 = {\"a\":some_list}\n",
    "d2 = d1.copy()\n",
    "some_list.append(4)\n",
    "print(d1)\n",
    "print(d2)"
   ]
  },
  {
   "cell_type": "code",
   "execution_count": 101,
   "metadata": {},
   "outputs": [
    {
     "name": "stdout",
     "output_type": "stream",
     "text": [
      "{'a': [1, 2, 3, 4]}\n",
      "{'a': [1, 2, 3]}\n"
     ]
    }
   ],
   "source": [
    "from copy import deepcopy\n",
    "some_list = [1,2,3]\n",
    "d1 = {\"a\":some_list}\n",
    "d2 = deepcopy(d1)\n",
    "some_list.append(4)\n",
    "print(d1)\n",
    "print(d2)"
   ]
  },
  {
   "cell_type": "markdown",
   "metadata": {},
   "source": [
    "### Генераторы"
   ]
  },
  {
   "cell_type": "code",
   "execution_count": 144,
   "metadata": {},
   "outputs": [
    {
     "name": "stdout",
     "output_type": "stream",
     "text": [
      "[1, 2, 3, 4, 5, 6, 7, 8, 9, 10]\n",
      "[0, 2, 4, 6, 8]\n",
      "{0: 1, 1: 2, 2: 3, 3: 4, 4: 5, 5: 6, 6: 7, 7: 8, 8: 9, 9: 10}\n",
      "{'a': 1, 'b': 2}\n"
     ]
    }
   ],
   "source": [
    "lst1 = [i for i in range(10)]\n",
    "lst2 = [i+1 for i in lst1]\n",
    "print (lst2)\n",
    "lst3 = [i for i in lst1 if i%2==0]\n",
    "print (lst3)\n",
    "\n",
    "dict1 = {i:i+1 for i in lst1}\n",
    "print (dict1)\n",
    "\n",
    "tuple_list = [(\"a\",1),(\"b\",2)]\n",
    "dict2 = {k:v for k,v in tuple_list}\n",
    "print(dict2)"
   ]
  },
  {
   "cell_type": "markdown",
   "metadata": {},
   "source": [
    "### Set "
   ]
  },
  {
   "cell_type": "code",
   "execution_count": 122,
   "metadata": {
    "scrolled": true
   },
   "outputs": [
    {
     "name": "stdout",
     "output_type": "stream",
     "text": [
      "<class 'set'>\n",
      "{1, 3, 4, 5, 6, 9}\n",
      "{2}\n",
      "{9, 4, 5, 6}\n",
      "{1, 3}\n",
      "{1, 2, 3, 4, 5, 6, 9}\n"
     ]
    }
   ],
   "source": [
    "s1 = set([1,2,3])\n",
    "s2 = {9,3,1,4,4,5,6,6,6}\n",
    "print(type(s2))\n",
    "print(s2)\n",
    "print(s1.difference(s2))\n",
    "print(s2.difference(s1))\n",
    "print(s1.intersection(s2))\n",
    "print(s1.union(s2))\n",
    "\n",
    "#frozenset тот же set, но не изменяемый \n"
   ]
  },
  {
   "cell_type": "markdown",
   "metadata": {},
   "source": [
    "### collections "
   ]
  },
  {
   "cell_type": "code",
   "execution_count": 128,
   "metadata": {},
   "outputs": [
    {
     "name": "stdout",
     "output_type": "stream",
     "text": [
      "['deque', 'defaultdict', 'OrderedDict', 'namedtuple', 'Counter', 'ChainMap', 'UserDict', 'UserList', 'UserString', 'abc', 'Mapping', 'Iterable']\n"
     ]
    }
   ],
   "source": [
    "import collections\n",
    "print([s for s in collections.__dict__.keys() if not s.startswith(\"_\")])"
   ]
  },
  {
   "cell_type": "code",
   "execution_count": 131,
   "metadata": {},
   "outputs": [
    {
     "name": "stdout",
     "output_type": "stream",
     "text": [
      "1: 5 times\n",
      "2: 2 times\n",
      "3: 2 times\n",
      "4: 1 times\n",
      "5: 1 times\n",
      "\n",
      "1: 5 times\n",
      "2: 2 times\n",
      "3: 2 times\n"
     ]
    }
   ],
   "source": [
    "counter = collections.Counter([1,2,3,4,5,1,2,3,1,1,1])\n",
    "for e,c in counter.items():\n",
    "    print(\"{}: {} times\".format(e,c))\n",
    "print()\n",
    "for e,c in counter.most_common(3):\n",
    "    print(\"{}: {} times\".format(e,c))"
   ]
  },
  {
   "cell_type": "code",
   "execution_count": 143,
   "metadata": {},
   "outputs": [
    {
     "name": "stdout",
     "output_type": "stream",
     "text": [
      "0:0\n",
      "5.0\n"
     ]
    }
   ],
   "source": [
    "import math\n",
    "Point = collections.namedtuple(\"Point\",['x','y'])\n",
    "p1 = Point(0,0)\n",
    "p2 = Point(3,4)\n",
    "print(\"{}:{}\".format(p1.x,p1.y))\n",
    "dist = math.sqrt((p2.x-p1.x)**2 + (p2.y-p1.y)**2)\n",
    "print(dist)"
   ]
  },
  {
   "cell_type": "code",
   "execution_count": 141,
   "metadata": {},
   "outputs": [
    {
     "data": {
      "text/plain": [
       "2"
      ]
     },
     "execution_count": 141,
     "metadata": {},
     "output_type": "execute_result"
    }
   ],
   "source": []
  }
 ],
 "metadata": {
  "kernelspec": {
   "display_name": "Python 3",
   "language": "python",
   "name": "python3"
  },
  "language_info": {
   "codemirror_mode": {
    "name": "ipython",
    "version": 3
   },
   "file_extension": ".py",
   "mimetype": "text/x-python",
   "name": "python",
   "nbconvert_exporter": "python",
   "pygments_lexer": "ipython3",
   "version": "3.7.0"
  }
 },
 "nbformat": 4,
 "nbformat_minor": 2
}
