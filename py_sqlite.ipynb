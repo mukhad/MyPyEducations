{
 "cells": [
  {
   "cell_type": "code",
   "execution_count": 1,
   "metadata": {},
   "outputs": [],
   "source": [
    "import sqlite3\n",
    "import pandas as pd"
   ]
  },
  {
   "cell_type": "code",
   "execution_count": 2,
   "metadata": {},
   "outputs": [],
   "source": [
    "connection = sqlite3.connect(\"tmp_files/company.db\")\n",
    "\n",
    "cursor = connection.cursor()"
   ]
  },
  {
   "cell_type": "code",
   "execution_count": 30,
   "metadata": {},
   "outputs": [
    {
     "data": {
      "text/plain": [
       "<sqlite3.Cursor at 0x558a180>"
      ]
     },
     "execution_count": 30,
     "metadata": {},
     "output_type": "execute_result"
    }
   ],
   "source": [
    "cursor.execute(\"\"\"DROP TABLE employee;\"\"\")\n",
    "sql_command = \"\"\"\n",
    "CREATE TABLE employee\n",
    "(    \n",
    "    staff_number INTEGER PRIMARY KEY,\n",
    "    fname VARCHAR(30),\n",
    "    lname VARCHAR(30) DEFAULT 'Ivanov',\n",
    "    gender CHAR(1),\n",
    "    joining DATE,\n",
    "    birth_date DATE\n",
    ");\n",
    "\"\"\"\n",
    "cursor.execute(sql_command)"
   ]
  },
  {
   "cell_type": "code",
   "execution_count": 31,
   "metadata": {},
   "outputs": [],
   "source": [
    "sql_command = \"\"\"\n",
    "INSERT INTO employee\n",
    "    (staff_number,fname,lname, gender,joining)\n",
    "    VALUES\n",
    "    (1231,\"Sidor\",\"Sidorov\",\"m\",\"2020-04-12\");\n",
    "\"\"\"\n",
    "cursor.execute(sql_command)\n",
    "\n",
    "sql_command\n",
    "\n",
    "connection.commit()\n",
    "\n",
    "#connection.rollback()\n",
    "\n",
    "#connection.close()"
   ]
  },
  {
   "cell_type": "code",
   "execution_count": 17,
   "metadata": {},
   "outputs": [],
   "source": []
  },
  {
   "cell_type": "code",
   "execution_count": null,
   "metadata": {},
   "outputs": [],
   "source": []
  }
 ],
 "metadata": {
  "kernelspec": {
   "display_name": "Python 3",
   "language": "python",
   "name": "python3"
  },
  "language_info": {
   "codemirror_mode": {
    "name": "ipython",
    "version": 3
   },
   "file_extension": ".py",
   "mimetype": "text/x-python",
   "name": "python",
   "nbconvert_exporter": "python",
   "pygments_lexer": "ipython3",
   "version": "3.7.9"
  }
 },
 "nbformat": 4,
 "nbformat_minor": 4
}
