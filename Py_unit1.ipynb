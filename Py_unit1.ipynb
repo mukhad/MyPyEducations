{
 "cells": [
  {
   "cell_type": "code",
   "execution_count": 13,
   "metadata": {},
   "outputs": [
    {
     "name": "stdout",
     "output_type": "stream",
     "text": [
      "1024 as\n"
     ]
    }
   ],
   "source": [
    "print(2**10 ,'as')"
   ]
  },
  {
   "cell_type": "code",
   "execution_count": 24,
   "metadata": {},
   "outputs": [
    {
     "name": "stdout",
     "output_type": "stream",
     "text": [
      "3.3333333333333335 3 1\n",
      "False <class 'bool'>\n",
      "<class 'int'>\n"
     ]
    }
   ],
   "source": [
    "print(10/3,end=\" \")\n",
    "print(10//3,end=\" \") #целочисленное деление \n",
    "print(10%3)\n",
    "print(4>=5, type(True))\n",
    "print(type(1+2))"
   ]
  },
  {
   "cell_type": "code",
   "execution_count": 31,
   "metadata": {},
   "outputs": [
    {
     "name": "stdout",
     "output_type": "stream",
     "text": [
      "0.30000000000000004\n",
      "a = 0.1000000000000000055511151231257827021181583404541015625\n",
      "b =  0.2\n",
      "0.3000000000000000055511151231\n",
      "0.3\n",
      "<class 'decimal.Decimal'>\n"
     ]
    }
   ],
   "source": [
    "print(0.1+0.2)\n",
    "from decimal import Decimal\n",
    "a = Decimal(0.1)\n",
    "print(\"a = {0}\".format(a))\n",
    "b = Decimal('0.2')\n",
    "print(\"b = \",b)\n",
    "print(a+b)\n",
    "print(dec('0.1') + dec('0.2'))\n",
    "print(type(a))"
   ]
  },
  {
   "cell_type": "code",
   "execution_count": 5,
   "metadata": {},
   "outputs": [
    {
     "name": "stdout",
     "output_type": "stream",
     "text": [
      "71166240 \n",
      " 71166240\n",
      "71164480 \n",
      " 71166240\n"
     ]
    }
   ],
   "source": [
    "s1 = 'one'\n",
    "s2 = s1\n",
    "print(id(s1),'\\n',id(s2))\n",
    "s1 += '1'\n",
    "print(id(s1),'\\n',id(s2))"
   ]
  },
  {
   "cell_type": "code",
   "execution_count": 6,
   "metadata": {},
   "outputs": [
    {
     "data": {
      "text/plain": [
       "'128384'"
      ]
     },
     "execution_count": 6,
     "metadata": {},
     "output_type": "execute_result"
    }
   ],
   "source": [
    "s2 = \"0128384\"\n",
    "'2' in s2\n",
    "s2.replace('0','')"
   ]
  },
  {
   "cell_type": "code",
   "execution_count": 10,
   "metadata": {},
   "outputs": [
    {
     "name": "stdout",
     "output_type": "stream",
     "text": [
      "['one', '   two', ' three  ']\n",
      "['one', 'two', 'three']\n",
      "one-two-three\n",
      "0 -- one0\n",
      "1 -- two1\n",
      "2 -- three2\n",
      "['one', 'two', 'three']\n"
     ]
    }
   ],
   "source": [
    "s1 = \"one,   two, three  \"\n",
    "s1.strip()\n",
    "data = s1.split(',')\n",
    "print(data)\n",
    "for i in range(len(data)):\n",
    "    data[i] = data[i].strip()\n",
    "print(data)\n",
    "s2 = \"-\".join(data)\n",
    "print(s2)\n",
    "for i,d in enumerate(data):\n",
    "    d += str(i)\n",
    "    print(f\"{i} -- {d}\")\n",
    "print(data)"
   ]
  },
  {
   "cell_type": "code",
   "execution_count": 41,
   "metadata": {},
   "outputs": [
    {
     "name": "stdout",
     "output_type": "stream",
     "text": [
      "[2, 4, 6, 8]\n"
     ]
    }
   ],
   "source": [
    "d = list(range(2,10,2))\n",
    "print (d)\n"
   ]
  },
  {
   "cell_type": "code",
   "execution_count": null,
   "metadata": {},
   "outputs": [],
   "source": []
  }
 ],
 "metadata": {
  "kernelspec": {
   "display_name": "Python 3",
   "language": "python",
   "name": "python3"
  },
  "language_info": {
   "codemirror_mode": {
    "name": "ipython",
    "version": 3
   },
   "file_extension": ".py",
   "mimetype": "text/x-python",
   "name": "python",
   "nbconvert_exporter": "python",
   "pygments_lexer": "ipython3",
   "version": "3.7.0"
  }
 },
 "nbformat": 4,
 "nbformat_minor": 2
}
